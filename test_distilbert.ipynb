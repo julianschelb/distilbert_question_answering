{
 "cells": [
  {
   "cell_type": "code",
   "execution_count": 6,
   "metadata": {},
   "outputs": [],
   "source": [
    "from transformers import pipeline\n",
    "from transformers import DistilBertModel\n",
    "import torch\n",
    "\n",
    "from transformers import DistilBertTokenizerFast\n",
    "from transformers import DistilBertConfig\n",
    "from transformers import DistilBertForMaskedLM"
   ]
  },
  {
   "cell_type": "code",
   "execution_count": 7,
   "metadata": {},
   "outputs": [],
   "source": [
    "saved_weights = torch.load(\"distilbert.model\")"
   ]
  },
  {
   "cell_type": "code",
   "execution_count": 11,
   "metadata": {},
   "outputs": [],
   "source": [
    "saved_weights = saved_weights.state_dict()"
   ]
  },
  {
   "cell_type": "code",
   "execution_count": 12,
   "metadata": {},
   "outputs": [],
   "source": [
    "config = DistilBertConfig(\n",
    "    vocab_size=30000,\n",
    "    max_position_embeddings=514\n",
    ")"
   ]
  },
  {
   "cell_type": "code",
   "execution_count": 15,
   "metadata": {},
   "outputs": [],
   "source": [
    "model = DistilBertForMaskedLM.from_pretrained(None, state_dict=saved_weights, config=config)"
   ]
  },
  {
   "cell_type": "code",
   "execution_count": 16,
   "metadata": {},
   "outputs": [],
   "source": [
    "fill = pipeline(\"fill-mask\", model=model, config=config, tokenizer='distilbert_tokenizer')"
   ]
  },
  {
   "cell_type": "code",
   "execution_count": 17,
   "metadata": {},
   "outputs": [
    {
     "data": {
      "text/plain": [
       "[{'score': 0.09668657928705215,\n",
       "  'token': 3840,\n",
       "  'token_str': 'model',\n",
       "  'sequence': \"hello i'm a model model.\"},\n",
       " {'score': 0.0642595961689949,\n",
       "  'token': 11419,\n",
       "  'token_str': 'hybrid',\n",
       "  'sequence': \"hello i'm a hybrid model.\"},\n",
       " {'score': 0.041236378252506256,\n",
       "  'token': 2098,\n",
       "  'token_str': 'new',\n",
       "  'sequence': \"hello i'm a new model.\"},\n",
       " {'score': 0.021112117916345596,\n",
       "  'token': 4412,\n",
       "  'token_str': 'regular',\n",
       "  'sequence': \"hello i'm a regular model.\"},\n",
       " {'score': 0.02039869874715805,\n",
       "  'token': 8952,\n",
       "  'token_str': 'toy',\n",
       "  'sequence': \"hello i'm a toy model.\"}]"
      ]
     },
     "execution_count": 17,
     "metadata": {},
     "output_type": "execute_result"
    }
   ],
   "source": [
    "fill(\"Hello I'm a [MASK] model.\")"
   ]
  },
  {
   "cell_type": "code",
   "execution_count": 18,
   "metadata": {},
   "outputs": [
    {
     "name": "stdout",
     "output_type": "stream",
     "text": [
      "[{'score': 0.11809775233268738, 'token': 4859, 'token_str': 'debate', 'sequence': 'it seems important to tackle the climate debate.'}, {'score': 0.11676741391420364, 'token': 2839, 'token_str': 'problem', 'sequence': 'it seems important to tackle the climate problem.'}, {'score': 0.07492002844810486, 'token': 3405, 'token_str': 'issue', 'sequence': 'it seems important to tackle the climate issue.'}, {'score': 0.03690898045897484, 'token': 2936, 'token_str': 'change', 'sequence': 'it seems important to tackle the climate change.'}, {'score': 0.03539828956127167, 'token': 8142, 'token_str': 'disaster', 'sequence': 'it seems important to tackle the climate disaster.'}]\n"
     ]
    }
   ],
   "source": [
    "response = fill(f'It seems important to tackle the climate {fill.tokenizer.mask_token}.')\n",
    "print(response)"
   ]
  },
  {
   "cell_type": "code",
   "execution_count": 19,
   "metadata": {},
   "outputs": [
    {
     "name": "stdout",
     "output_type": "stream",
     "text": [
      "[{'score': 0.13901743292808533, 'token': 4794, 'token_str': 'nuclear', 'sequence': 'richard feynman was a nuclear physicist.'}, {'score': 0.06947256624698639, 'token': 2555, 'token_str': 'great', 'sequence': 'richard feynman was a great physicist.'}, {'score': 0.0582813024520874, 'token': 2576, 'token_str': 'big', 'sequence': 'richard feynman was a big physicist.'}, {'score': 0.030927147716283798, 'token': 4429, 'token_str': 'modern', 'sequence': 'richard feynman was a modern physicist.'}, {'score': 0.020640792325139046, 'token': 4962, 'token_str': 'failed', 'sequence': 'richard feynman was a failed physicist.'}]\n"
     ]
    }
   ],
   "source": [
    "response = fill(f'Richard Feynman was a [MASK] physicist.')\n",
    "print(response)"
   ]
  }
 ],
 "metadata": {
  "kernelspec": {
   "display_name": "distilbert-qa",
   "language": "python",
   "name": "python3"
  },
  "language_info": {
   "codemirror_mode": {
    "name": "ipython",
    "version": 3
   },
   "file_extension": ".py",
   "mimetype": "text/x-python",
   "name": "python",
   "nbconvert_exporter": "python",
   "pygments_lexer": "ipython3",
   "version": "3.10.8"
  }
 },
 "nbformat": 4,
 "nbformat_minor": 2
}
